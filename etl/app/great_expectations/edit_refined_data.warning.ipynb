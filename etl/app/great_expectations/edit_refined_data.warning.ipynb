{
 "cells": [
  {
   "cell_type": "markdown",
   "metadata": {},
   "source": [
    "# Edit Your Expectation Suite\n",
    "Use this notebook to recreate and modify your expectation suite:\n",
    "\n",
    "**Expectation Suite Name**: `refined_data.warning`\n",
    "\n",
    "We'd love it if you **reach out to us on** the [**Great Expectations Slack Channel**](https://greatexpectations.io/slack)"
   ]
  },
  {
   "cell_type": "code",
   "execution_count": 1,
   "metadata": {},
   "outputs": [
    {
     "name": "stdout",
     "output_type": "stream",
     "text": [
      "Requirement already satisfied: great_expectations in /Users/alexandrehenry/anaconda3/lib/python3.7/site-packages (0.13.15)\n",
      "Requirement already satisfied: scipy>=0.19.0 in /Users/alexandrehenry/anaconda3/lib/python3.7/site-packages (from great_expectations) (1.2.1)\n",
      "Requirement already satisfied: numpy<1.20.0,>=1.14.1 in /Users/alexandrehenry/anaconda3/lib/python3.7/site-packages (from great_expectations) (1.16.3)\n",
      "Requirement already satisfied: python-dateutil>=2.8.1 in /Users/alexandrehenry/anaconda3/lib/python3.7/site-packages (from great_expectations) (2.8.1)\n",
      "Requirement already satisfied: altair<5,>=4.0.0 in /Users/alexandrehenry/anaconda3/lib/python3.7/site-packages (from great_expectations) (4.1.0)\n",
      "Requirement already satisfied: ipywidgets>=7.5.1 in /Users/alexandrehenry/anaconda3/lib/python3.7/site-packages (from great_expectations) (7.6.3)\n",
      "Requirement already satisfied: requests>=2.20 in /Users/alexandrehenry/anaconda3/lib/python3.7/site-packages (from great_expectations) (2.21.0)\n",
      "Requirement already satisfied: mistune>=0.8.4 in /Users/alexandrehenry/anaconda3/lib/python3.7/site-packages (from great_expectations) (0.8.4)\n",
      "Requirement already satisfied: pyparsing<3,>=2.4 in /Users/alexandrehenry/anaconda3/lib/python3.7/site-packages (from great_expectations) (2.4.7)\n",
      "Requirement already satisfied: importlib-metadata>=1.7.0 in /Users/alexandrehenry/anaconda3/lib/python3.7/site-packages (from great_expectations) (3.9.1)\n",
      "Requirement already satisfied: jinja2>=2.10 in /Users/alexandrehenry/anaconda3/lib/python3.7/site-packages (from great_expectations) (2.10)\n",
      "Requirement already satisfied: ruamel.yaml>=0.16 in /Users/alexandrehenry/anaconda3/lib/python3.7/site-packages (from great_expectations) (0.17.2)\n",
      "Requirement already satisfied: pytz>=2015.6 in /Users/alexandrehenry/anaconda3/lib/python3.7/site-packages (from great_expectations) (2018.9)\n",
      "Requirement already satisfied: jsonschema>=2.5.1 in /Users/alexandrehenry/anaconda3/lib/python3.7/site-packages (from great_expectations) (3.0.1)\n",
      "Requirement already satisfied: Click>=7.1.2 in /Users/alexandrehenry/anaconda3/lib/python3.7/site-packages (from great_expectations) (7.1.2)\n",
      "Requirement already satisfied: tqdm>=4.59.0 in /Users/alexandrehenry/anaconda3/lib/python3.7/site-packages (from great_expectations) (4.59.0)\n",
      "Requirement already satisfied: jsonpatch>=1.22 in /Users/alexandrehenry/anaconda3/lib/python3.7/site-packages (from great_expectations) (1.32)\n",
      "Requirement already satisfied: tzlocal>=1.2 in /Users/alexandrehenry/anaconda3/lib/python3.7/site-packages (from great_expectations) (2.1)\n",
      "Requirement already satisfied: pandas>=0.23.0 in /Users/alexandrehenry/anaconda3/lib/python3.7/site-packages (from great_expectations) (0.24.2)\n",
      "Requirement already satisfied: termcolor>=1.1.0 in /Users/alexandrehenry/anaconda3/lib/python3.7/site-packages (from great_expectations) (1.1.0)\n",
      "Requirement already satisfied: six>=1.5 in /Users/alexandrehenry/anaconda3/lib/python3.7/site-packages (from python-dateutil>=2.8.1->great_expectations) (1.12.0)\n",
      "Requirement already satisfied: toolz in /Users/alexandrehenry/anaconda3/lib/python3.7/site-packages (from altair<5,>=4.0.0->great_expectations) (0.9.0)\n",
      "Requirement already satisfied: entrypoints in /Users/alexandrehenry/anaconda3/lib/python3.7/site-packages (from altair<5,>=4.0.0->great_expectations) (0.3)\n",
      "Requirement already satisfied: widgetsnbextension~=3.5.0 in /Users/alexandrehenry/anaconda3/lib/python3.7/site-packages (from ipywidgets>=7.5.1->great_expectations) (3.5.1)\n",
      "Requirement already satisfied: nbformat>=4.2.0 in /Users/alexandrehenry/anaconda3/lib/python3.7/site-packages (from ipywidgets>=7.5.1->great_expectations) (4.4.0)\n",
      "Requirement already satisfied: jupyterlab-widgets>=1.0.0; python_version >= \"3.6\" in /Users/alexandrehenry/anaconda3/lib/python3.7/site-packages (from ipywidgets>=7.5.1->great_expectations) (1.0.0)\n",
      "Requirement already satisfied: ipykernel>=4.5.1 in /Users/alexandrehenry/anaconda3/lib/python3.7/site-packages (from ipywidgets>=7.5.1->great_expectations) (5.1.0)\n",
      "Requirement already satisfied: traitlets>=4.3.1 in /Users/alexandrehenry/anaconda3/lib/python3.7/site-packages (from ipywidgets>=7.5.1->great_expectations) (4.3.2)\n",
      "Requirement already satisfied: ipython>=4.0.0; python_version >= \"3.3\" in /Users/alexandrehenry/anaconda3/lib/python3.7/site-packages (from ipywidgets>=7.5.1->great_expectations) (7.4.0)\n",
      "Requirement already satisfied: chardet<3.1.0,>=3.0.2 in /Users/alexandrehenry/anaconda3/lib/python3.7/site-packages (from requests>=2.20->great_expectations) (3.0.4)\n",
      "Requirement already satisfied: urllib3<1.25,>=1.21.1 in /Users/alexandrehenry/anaconda3/lib/python3.7/site-packages (from requests>=2.20->great_expectations) (1.24.1)\n",
      "Requirement already satisfied: certifi>=2017.4.17 in /Users/alexandrehenry/anaconda3/lib/python3.7/site-packages (from requests>=2.20->great_expectations) (2019.3.9)\n",
      "Requirement already satisfied: idna<2.9,>=2.5 in /Users/alexandrehenry/anaconda3/lib/python3.7/site-packages (from requests>=2.20->great_expectations) (2.8)\n",
      "Requirement already satisfied: zipp>=0.5 in /Users/alexandrehenry/anaconda3/lib/python3.7/site-packages (from importlib-metadata>=1.7.0->great_expectations) (3.4.1)\n",
      "Requirement already satisfied: typing-extensions>=3.6.4; python_version < \"3.8\" in /Users/alexandrehenry/anaconda3/lib/python3.7/site-packages (from importlib-metadata>=1.7.0->great_expectations) (3.7.4.3)\n",
      "Requirement already satisfied: MarkupSafe>=0.23 in /Users/alexandrehenry/anaconda3/lib/python3.7/site-packages (from jinja2>=2.10->great_expectations) (1.1.1)\n",
      "Requirement already satisfied: ruamel.yaml.clib>=0.1.2; platform_python_implementation == \"CPython\" and python_version < \"3.10\" in /Users/alexandrehenry/anaconda3/lib/python3.7/site-packages (from ruamel.yaml>=0.16->great_expectations) (0.2.2)\n",
      "Requirement already satisfied: attrs>=17.4.0 in /Users/alexandrehenry/anaconda3/lib/python3.7/site-packages (from jsonschema>=2.5.1->great_expectations) (19.1.0)\n",
      "Requirement already satisfied: pyrsistent>=0.14.0 in /Users/alexandrehenry/anaconda3/lib/python3.7/site-packages (from jsonschema>=2.5.1->great_expectations) (0.14.11)\n",
      "Requirement already satisfied: setuptools in /Users/alexandrehenry/anaconda3/lib/python3.7/site-packages (from jsonschema>=2.5.1->great_expectations) (40.8.0)\n",
      "Requirement already satisfied: jsonpointer>=1.9 in /Users/alexandrehenry/anaconda3/lib/python3.7/site-packages (from jsonpatch>=1.22->great_expectations) (2.1)\n",
      "Requirement already satisfied: notebook>=4.4.1 in /Users/alexandrehenry/anaconda3/lib/python3.7/site-packages (from widgetsnbextension~=3.5.0->ipywidgets>=7.5.1->great_expectations) (5.7.8)\n",
      "Requirement already satisfied: jupyter-core in /Users/alexandrehenry/anaconda3/lib/python3.7/site-packages (from nbformat>=4.2.0->ipywidgets>=7.5.1->great_expectations) (4.4.0)\n",
      "Requirement already satisfied: ipython-genutils in /Users/alexandrehenry/anaconda3/lib/python3.7/site-packages (from nbformat>=4.2.0->ipywidgets>=7.5.1->great_expectations) (0.2.0)\n",
      "Requirement already satisfied: tornado>=4.2 in /Users/alexandrehenry/anaconda3/lib/python3.7/site-packages (from ipykernel>=4.5.1->ipywidgets>=7.5.1->great_expectations) (6.0.2)\n",
      "Requirement already satisfied: jupyter-client in /Users/alexandrehenry/anaconda3/lib/python3.7/site-packages (from ipykernel>=4.5.1->ipywidgets>=7.5.1->great_expectations) (5.2.4)\n",
      "Requirement already satisfied: decorator in /Users/alexandrehenry/anaconda3/lib/python3.7/site-packages (from traitlets>=4.3.1->ipywidgets>=7.5.1->great_expectations) (4.4.0)\n",
      "Requirement already satisfied: pickleshare in /Users/alexandrehenry/anaconda3/lib/python3.7/site-packages (from ipython>=4.0.0; python_version >= \"3.3\"->ipywidgets>=7.5.1->great_expectations) (0.7.5)\n",
      "Requirement already satisfied: appnope; sys_platform == \"darwin\" in /Users/alexandrehenry/anaconda3/lib/python3.7/site-packages (from ipython>=4.0.0; python_version >= \"3.3\"->ipywidgets>=7.5.1->great_expectations) (0.1.0)\n",
      "Requirement already satisfied: pygments in /Users/alexandrehenry/anaconda3/lib/python3.7/site-packages (from ipython>=4.0.0; python_version >= \"3.3\"->ipywidgets>=7.5.1->great_expectations) (2.3.1)\n",
      "Requirement already satisfied: prompt-toolkit<2.1.0,>=2.0.0 in /Users/alexandrehenry/anaconda3/lib/python3.7/site-packages (from ipython>=4.0.0; python_version >= \"3.3\"->ipywidgets>=7.5.1->great_expectations) (2.0.9)\n"
     ]
    },
    {
     "name": "stdout",
     "output_type": "stream",
     "text": [
      "Requirement already satisfied: backcall in /Users/alexandrehenry/anaconda3/lib/python3.7/site-packages (from ipython>=4.0.0; python_version >= \"3.3\"->ipywidgets>=7.5.1->great_expectations) (0.1.0)\n",
      "Requirement already satisfied: jedi>=0.10 in /Users/alexandrehenry/anaconda3/lib/python3.7/site-packages (from ipython>=4.0.0; python_version >= \"3.3\"->ipywidgets>=7.5.1->great_expectations) (0.13.3)\n",
      "Requirement already satisfied: pexpect; sys_platform != \"win32\" in /Users/alexandrehenry/anaconda3/lib/python3.7/site-packages (from ipython>=4.0.0; python_version >= \"3.3\"->ipywidgets>=7.5.1->great_expectations) (4.6.0)\n",
      "Requirement already satisfied: pyzmq>=17 in /Users/alexandrehenry/anaconda3/lib/python3.7/site-packages (from notebook>=4.4.1->widgetsnbextension~=3.5.0->ipywidgets>=7.5.1->great_expectations) (18.0.0)\n",
      "Requirement already satisfied: prometheus-client in /Users/alexandrehenry/anaconda3/lib/python3.7/site-packages (from notebook>=4.4.1->widgetsnbextension~=3.5.0->ipywidgets>=7.5.1->great_expectations) (0.6.0)\n",
      "Requirement already satisfied: Send2Trash in /Users/alexandrehenry/anaconda3/lib/python3.7/site-packages (from notebook>=4.4.1->widgetsnbextension~=3.5.0->ipywidgets>=7.5.1->great_expectations) (1.5.0)\n",
      "Requirement already satisfied: nbconvert in /Users/alexandrehenry/anaconda3/lib/python3.7/site-packages (from notebook>=4.4.1->widgetsnbextension~=3.5.0->ipywidgets>=7.5.1->great_expectations) (5.4.1)\n",
      "Requirement already satisfied: terminado>=0.8.1 in /Users/alexandrehenry/anaconda3/lib/python3.7/site-packages (from notebook>=4.4.1->widgetsnbextension~=3.5.0->ipywidgets>=7.5.1->great_expectations) (0.8.1)\n",
      "Requirement already satisfied: wcwidth in /Users/alexandrehenry/anaconda3/lib/python3.7/site-packages (from prompt-toolkit<2.1.0,>=2.0.0->ipython>=4.0.0; python_version >= \"3.3\"->ipywidgets>=7.5.1->great_expectations) (0.1.7)\n",
      "Requirement already satisfied: parso>=0.3.0 in /Users/alexandrehenry/anaconda3/lib/python3.7/site-packages (from jedi>=0.10->ipython>=4.0.0; python_version >= \"3.3\"->ipywidgets>=7.5.1->great_expectations) (0.3.4)\n",
      "Requirement already satisfied: ptyprocess>=0.5 in /Users/alexandrehenry/anaconda3/lib/python3.7/site-packages (from pexpect; sys_platform != \"win32\"->ipython>=4.0.0; python_version >= \"3.3\"->ipywidgets>=7.5.1->great_expectations) (0.6.0)\n",
      "Requirement already satisfied: bleach in /Users/alexandrehenry/anaconda3/lib/python3.7/site-packages (from nbconvert->notebook>=4.4.1->widgetsnbextension~=3.5.0->ipywidgets>=7.5.1->great_expectations) (3.1.0)\n",
      "Requirement already satisfied: pandocfilters>=1.4.1 in /Users/alexandrehenry/anaconda3/lib/python3.7/site-packages (from nbconvert->notebook>=4.4.1->widgetsnbextension~=3.5.0->ipywidgets>=7.5.1->great_expectations) (1.4.2)\n",
      "Requirement already satisfied: testpath in /Users/alexandrehenry/anaconda3/lib/python3.7/site-packages (from nbconvert->notebook>=4.4.1->widgetsnbextension~=3.5.0->ipywidgets>=7.5.1->great_expectations) (0.4.2)\n",
      "Requirement already satisfied: defusedxml in /Users/alexandrehenry/anaconda3/lib/python3.7/site-packages (from nbconvert->notebook>=4.4.1->widgetsnbextension~=3.5.0->ipywidgets>=7.5.1->great_expectations) (0.5.0)\n",
      "Requirement already satisfied: webencodings in /Users/alexandrehenry/anaconda3/lib/python3.7/site-packages (from bleach->nbconvert->notebook>=4.4.1->widgetsnbextension~=3.5.0->ipywidgets>=7.5.1->great_expectations) (0.5.1)\n",
      "\u001b[33mWARNING: You are using pip version 19.1.1, however version 21.0.1 is available.\n",
      "You should consider upgrading via the 'pip install --upgrade pip' command.\u001b[0m\n"
     ]
    }
   ],
   "source": [
    "!pip install great_expectations"
   ]
  },
  {
   "cell_type": "code",
   "execution_count": 4,
   "metadata": {},
   "outputs": [
    {
     "data": {
      "text/html": [
       "<div>\n",
       "<style scoped>\n",
       "    .dataframe tbody tr th:only-of-type {\n",
       "        vertical-align: middle;\n",
       "    }\n",
       "\n",
       "    .dataframe tbody tr th {\n",
       "        vertical-align: top;\n",
       "    }\n",
       "\n",
       "    .dataframe thead th {\n",
       "        text-align: right;\n",
       "    }\n",
       "</style>\n",
       "<table border=\"1\" class=\"dataframe\">\n",
       "  <thead>\n",
       "    <tr style=\"text-align: right;\">\n",
       "      <th></th>\n",
       "      <th>t</th>\n",
       "      <th>u</th>\n",
       "      <th>pres</th>\n",
       "      <th>tend24</th>\n",
       "      <th>consumption</th>\n",
       "    </tr>\n",
       "  </thead>\n",
       "  <tbody>\n",
       "    <tr>\n",
       "      <th>0</th>\n",
       "      <td>276</td>\n",
       "      <td>92</td>\n",
       "      <td>101512</td>\n",
       "      <td>-224</td>\n",
       "      <td>56619</td>\n",
       "    </tr>\n",
       "    <tr>\n",
       "      <th>1</th>\n",
       "      <td>280</td>\n",
       "      <td>87</td>\n",
       "      <td>101425</td>\n",
       "      <td>-348</td>\n",
       "      <td>70442</td>\n",
       "    </tr>\n",
       "    <tr>\n",
       "      <th>2</th>\n",
       "      <td>279</td>\n",
       "      <td>90</td>\n",
       "      <td>101254</td>\n",
       "      <td>-478</td>\n",
       "      <td>68735</td>\n",
       "    </tr>\n",
       "    <tr>\n",
       "      <th>3</th>\n",
       "      <td>279</td>\n",
       "      <td>90</td>\n",
       "      <td>101110</td>\n",
       "      <td>-402</td>\n",
       "      <td>55545</td>\n",
       "    </tr>\n",
       "    <tr>\n",
       "      <th>4</th>\n",
       "      <td>282</td>\n",
       "      <td>83</td>\n",
       "      <td>101275</td>\n",
       "      <td>-150</td>\n",
       "      <td>67167</td>\n",
       "    </tr>\n",
       "  </tbody>\n",
       "</table>\n",
       "</div>"
      ],
      "text/plain": [
       "     t   u    pres  tend24  consumption\n",
       "0  276  92  101512    -224        56619\n",
       "1  280  87  101425    -348        70442\n",
       "2  279  90  101254    -478        68735\n",
       "3  279  90  101110    -402        55545\n",
       "4  282  83  101275    -150        67167"
      ]
     },
     "execution_count": 4,
     "metadata": {},
     "output_type": "execute_result"
    }
   ],
   "source": [
    "import datetime\n",
    "import great_expectations as ge\n",
    "import great_expectations.jupyter_ux\n",
    "from great_expectations.checkpoint import LegacyCheckpoint\n",
    "from great_expectations.data_context.types.resource_identifiers import ValidationResultIdentifier\n",
    "\n",
    "context = ge.data_context.DataContext()\n",
    "\n",
    "# Feel free to change the name of your suite here. Renaming this will not\n",
    "# remove the other one.\n",
    "expectation_suite_name = \"refined_data.warning\"\n",
    "suite = context.create_expectation_suite(\n",
    "    expectation_suite_name, overwrite_existing=True\n",
    ")\n",
    "\n",
    "# change the path to the reference data in refined\n",
    "batch_kwargs = {'data_asset_name': 'train_data', 'datasource': 'refined__dir', 'path': '/Users/alexandrehenry/git/yotta-tp-mlops/data/refined/S1_2020_data.csv'}\n",
    "batch = context.get_batch(batch_kwargs, suite)\n",
    "batch.head()"
   ]
  },
  {
   "cell_type": "markdown",
   "metadata": {},
   "source": [
    "## Create & Edit Expectations\n",
    "\n",
    "Add expectations by calling specific expectation methods on the `batch` object. They all begin with `.expect_` which makes autocompleting easy using tab.\n",
    "\n",
    "You can see all the available expectations in the **[expectation glossary](https://docs.greatexpectations.io/en/latest/reference/glossary_of_expectations.html?utm_source=notebook&utm_medium=create_expectations)**."
   ]
  },
  {
   "cell_type": "markdown",
   "metadata": {},
   "source": [
    "### Table Expectation(s)"
   ]
  },
  {
   "cell_type": "code",
   "execution_count": 5,
   "metadata": {},
   "outputs": [
    {
     "data": {
      "text/plain": [
       "{\n",
       "  \"meta\": {},\n",
       "  \"result\": {\n",
       "    \"observed_value\": 542\n",
       "  },\n",
       "  \"exception_info\": {\n",
       "    \"raised_exception\": false,\n",
       "    \"exception_traceback\": null,\n",
       "    \"exception_message\": null\n",
       "  },\n",
       "  \"success\": true\n",
       "}"
      ]
     },
     "execution_count": 5,
     "metadata": {},
     "output_type": "execute_result"
    }
   ],
   "source": [
    "batch.expect_table_row_count_to_be_between(max_value=99999, min_value=200)"
   ]
  },
  {
   "cell_type": "code",
   "execution_count": 6,
   "metadata": {},
   "outputs": [
    {
     "data": {
      "text/plain": [
       "{\n",
       "  \"meta\": {},\n",
       "  \"result\": {\n",
       "    \"observed_value\": 5\n",
       "  },\n",
       "  \"exception_info\": {\n",
       "    \"raised_exception\": false,\n",
       "    \"exception_traceback\": null,\n",
       "    \"exception_message\": null\n",
       "  },\n",
       "  \"success\": true\n",
       "}"
      ]
     },
     "execution_count": 6,
     "metadata": {},
     "output_type": "execute_result"
    }
   ],
   "source": [
    "batch.expect_table_column_count_to_equal(value=5)"
   ]
  },
  {
   "cell_type": "code",
   "execution_count": 7,
   "metadata": {},
   "outputs": [
    {
     "data": {
      "text/plain": [
       "{\n",
       "  \"meta\": {},\n",
       "  \"result\": {\n",
       "    \"observed_value\": [\n",
       "      \"t\",\n",
       "      \"u\",\n",
       "      \"pres\",\n",
       "      \"tend24\",\n",
       "      \"consumption\"\n",
       "    ]\n",
       "  },\n",
       "  \"exception_info\": {\n",
       "    \"raised_exception\": false,\n",
       "    \"exception_traceback\": null,\n",
       "    \"exception_message\": null\n",
       "  },\n",
       "  \"success\": true\n",
       "}"
      ]
     },
     "execution_count": 7,
     "metadata": {},
     "output_type": "execute_result"
    }
   ],
   "source": [
    "batch.expect_table_columns_to_match_ordered_list(column_list=['t', 'u', 'pres', 'tend24', 'consumption'])"
   ]
  },
  {
   "cell_type": "markdown",
   "metadata": {},
   "source": [
    "### Column Expectation(s)"
   ]
  },
  {
   "cell_type": "markdown",
   "metadata": {},
   "source": [
    "#### `t`"
   ]
  },
  {
   "cell_type": "code",
   "execution_count": 8,
   "metadata": {},
   "outputs": [
    {
     "data": {
      "text/plain": [
       "{\n",
       "  \"meta\": {},\n",
       "  \"result\": {\n",
       "    \"element_count\": 542,\n",
       "    \"unexpected_count\": 0,\n",
       "    \"unexpected_percent\": 0.0,\n",
       "    \"unexpected_percent_total\": 0.0,\n",
       "    \"partial_unexpected_list\": []\n",
       "  },\n",
       "  \"exception_info\": {\n",
       "    \"raised_exception\": false,\n",
       "    \"exception_traceback\": null,\n",
       "    \"exception_message\": null\n",
       "  },\n",
       "  \"success\": true\n",
       "}"
      ]
     },
     "execution_count": 8,
     "metadata": {},
     "output_type": "execute_result"
    }
   ],
   "source": [
    "batch.expect_column_values_to_not_be_null(column='t')"
   ]
  },
  {
   "cell_type": "code",
   "execution_count": 9,
   "metadata": {},
   "outputs": [
    {
     "data": {
      "text/plain": [
       "{\n",
       "  \"meta\": {},\n",
       "  \"result\": {\n",
       "    \"observed_value\": 274,\n",
       "    \"element_count\": 542,\n",
       "    \"missing_count\": null,\n",
       "    \"missing_percent\": null\n",
       "  },\n",
       "  \"exception_info\": {\n",
       "    \"raised_exception\": false,\n",
       "    \"exception_traceback\": null,\n",
       "    \"exception_message\": null\n",
       "  },\n",
       "  \"success\": true\n",
       "}"
      ]
     },
     "execution_count": 9,
     "metadata": {},
     "output_type": "execute_result"
    }
   ],
   "source": [
    "batch.expect_column_min_to_be_between(column='t', max_value=276, min_value=273)"
   ]
  },
  {
   "cell_type": "code",
   "execution_count": 10,
   "metadata": {},
   "outputs": [
    {
     "data": {
      "text/plain": [
       "{\n",
       "  \"meta\": {},\n",
       "  \"result\": {\n",
       "    \"observed_value\": 301,\n",
       "    \"element_count\": 542,\n",
       "    \"missing_count\": null,\n",
       "    \"missing_percent\": null\n",
       "  },\n",
       "  \"exception_info\": {\n",
       "    \"raised_exception\": false,\n",
       "    \"exception_traceback\": null,\n",
       "    \"exception_message\": null\n",
       "  },\n",
       "  \"success\": true\n",
       "}"
      ]
     },
     "execution_count": 10,
     "metadata": {},
     "output_type": "execute_result"
    }
   ],
   "source": [
    "batch.expect_column_max_to_be_between(column='t', max_value=306, min_value=300)"
   ]
  },
  {
   "cell_type": "code",
   "execution_count": 11,
   "metadata": {},
   "outputs": [
    {
     "data": {
      "text/plain": [
       "{\n",
       "  \"meta\": {},\n",
       "  \"result\": {\n",
       "    \"observed_value\": 285.65682656826567,\n",
       "    \"element_count\": 542,\n",
       "    \"missing_count\": null,\n",
       "    \"missing_percent\": null\n",
       "  },\n",
       "  \"exception_info\": {\n",
       "    \"raised_exception\": false,\n",
       "    \"exception_traceback\": null,\n",
       "    \"exception_message\": null\n",
       "  },\n",
       "  \"success\": true\n",
       "}"
      ]
     },
     "execution_count": 11,
     "metadata": {},
     "output_type": "execute_result"
    }
   ],
   "source": [
    "batch.expect_column_mean_to_be_between(column='t', max_value=287.0, min_value=284.0)"
   ]
  },
  {
   "cell_type": "code",
   "execution_count": 12,
   "metadata": {},
   "outputs": [
    {
     "data": {
      "text/plain": [
       "{\n",
       "  \"meta\": {},\n",
       "  \"result\": {\n",
       "    \"observed_value\": 285.0,\n",
       "    \"element_count\": 542,\n",
       "    \"missing_count\": null,\n",
       "    \"missing_percent\": null\n",
       "  },\n",
       "  \"exception_info\": {\n",
       "    \"raised_exception\": false,\n",
       "    \"exception_traceback\": null,\n",
       "    \"exception_message\": null\n",
       "  },\n",
       "  \"success\": true\n",
       "}"
      ]
     },
     "execution_count": 12,
     "metadata": {},
     "output_type": "execute_result"
    }
   ],
   "source": [
    "batch.expect_column_median_to_be_between(column='t', max_value=287.0, min_value=284.0)"
   ]
  },
  {
   "cell_type": "code",
   "execution_count": 13,
   "metadata": {},
   "outputs": [
    {
     "data": {
      "text/plain": [
       "{\n",
       "  \"meta\": {},\n",
       "  \"result\": {\n",
       "    \"observed_value\": {\n",
       "      \"quantiles\": [\n",
       "        0.05,\n",
       "        0.25,\n",
       "        0.5,\n",
       "        0.75,\n",
       "        0.95\n",
       "      ],\n",
       "      \"values\": [\n",
       "        277,\n",
       "        281,\n",
       "        285,\n",
       "        290,\n",
       "        296\n",
       "      ]\n",
       "    },\n",
       "    \"element_count\": 542,\n",
       "    \"missing_count\": null,\n",
       "    \"missing_percent\": null\n",
       "  },\n",
       "  \"exception_info\": {\n",
       "    \"raised_exception\": false,\n",
       "    \"exception_traceback\": null,\n",
       "    \"exception_message\": null\n",
       "  },\n",
       "  \"success\": true\n",
       "}"
      ]
     },
     "execution_count": 13,
     "metadata": {},
     "output_type": "execute_result"
    }
   ],
   "source": [
    "batch.expect_column_quantile_values_to_be_between(column='t', allow_relative_error=False, quantile_ranges={'quantiles': [0.05, 0.25, 0.5, 0.75, 0.95], 'value_ranges': [[276, 278], [280, 282], [284, 286], [289, 291], [295, 297]]})"
   ]
  },
  {
   "cell_type": "markdown",
   "metadata": {},
   "source": [
    "#### `u`"
   ]
  },
  {
   "cell_type": "code",
   "execution_count": 14,
   "metadata": {},
   "outputs": [
    {
     "data": {
      "text/plain": [
       "{\n",
       "  \"meta\": {},\n",
       "  \"result\": {\n",
       "    \"element_count\": 542,\n",
       "    \"unexpected_count\": 0,\n",
       "    \"unexpected_percent\": 0.0,\n",
       "    \"unexpected_percent_total\": 0.0,\n",
       "    \"partial_unexpected_list\": []\n",
       "  },\n",
       "  \"exception_info\": {\n",
       "    \"raised_exception\": false,\n",
       "    \"exception_traceback\": null,\n",
       "    \"exception_message\": null\n",
       "  },\n",
       "  \"success\": true\n",
       "}"
      ]
     },
     "execution_count": 14,
     "metadata": {},
     "output_type": "execute_result"
    }
   ],
   "source": [
    "batch.expect_column_values_to_not_be_null(column='u')"
   ]
  },
  {
   "cell_type": "code",
   "execution_count": 15,
   "metadata": {},
   "outputs": [
    {
     "data": {
      "text/plain": [
       "{\n",
       "  \"meta\": {},\n",
       "  \"result\": {\n",
       "    \"element_count\": 542,\n",
       "    \"missing_count\": 0,\n",
       "    \"missing_percent\": 0.0,\n",
       "    \"unexpected_count\": 0,\n",
       "    \"unexpected_percent\": 0.0,\n",
       "    \"unexpected_percent_total\": 0.0,\n",
       "    \"unexpected_percent_nonmissing\": 0.0,\n",
       "    \"partial_unexpected_list\": []\n",
       "  },\n",
       "  \"exception_info\": {\n",
       "    \"raised_exception\": false,\n",
       "    \"exception_traceback\": null,\n",
       "    \"exception_message\": null\n",
       "  },\n",
       "  \"success\": true\n",
       "}"
      ]
     },
     "execution_count": 15,
     "metadata": {},
     "output_type": "execute_result"
    }
   ],
   "source": [
    "batch.expect_column_values_to_be_between(column='u', max_value=94, min_value=36)"
   ]
  },
  {
   "cell_type": "code",
   "execution_count": 16,
   "metadata": {},
   "outputs": [
    {
     "data": {
      "text/plain": [
       "{\n",
       "  \"meta\": {},\n",
       "  \"result\": {\n",
       "    \"observed_value\": 68.9649446494465,\n",
       "    \"element_count\": 542,\n",
       "    \"missing_count\": null,\n",
       "    \"missing_percent\": null\n",
       "  },\n",
       "  \"exception_info\": {\n",
       "    \"raised_exception\": false,\n",
       "    \"exception_traceback\": null,\n",
       "    \"exception_message\": null\n",
       "  },\n",
       "  \"success\": true\n",
       "}"
      ]
     },
     "execution_count": 16,
     "metadata": {},
     "output_type": "execute_result"
    }
   ],
   "source": [
    "batch.expect_column_mean_to_be_between(column='u', max_value=75, min_value=65)"
   ]
  },
  {
   "cell_type": "markdown",
   "metadata": {},
   "source": [
    "#### `pres`"
   ]
  },
  {
   "cell_type": "code",
   "execution_count": 17,
   "metadata": {},
   "outputs": [
    {
     "data": {
      "text/plain": [
       "{\n",
       "  \"meta\": {},\n",
       "  \"result\": {\n",
       "    \"element_count\": 542,\n",
       "    \"unexpected_count\": 0,\n",
       "    \"unexpected_percent\": 0.0,\n",
       "    \"unexpected_percent_total\": 0.0,\n",
       "    \"partial_unexpected_list\": []\n",
       "  },\n",
       "  \"exception_info\": {\n",
       "    \"raised_exception\": false,\n",
       "    \"exception_traceback\": null,\n",
       "    \"exception_message\": null\n",
       "  },\n",
       "  \"success\": true\n",
       "}"
      ]
     },
     "execution_count": 17,
     "metadata": {},
     "output_type": "execute_result"
    }
   ],
   "source": [
    "batch.expect_column_values_to_not_be_null(column='pres')"
   ]
  },
  {
   "cell_type": "code",
   "execution_count": 18,
   "metadata": {},
   "outputs": [
    {
     "data": {
      "text/plain": [
       "{\n",
       "  \"meta\": {},\n",
       "  \"result\": {\n",
       "    \"element_count\": 542,\n",
       "    \"missing_count\": 0,\n",
       "    \"missing_percent\": 0.0,\n",
       "    \"unexpected_count\": 0,\n",
       "    \"unexpected_percent\": 0.0,\n",
       "    \"unexpected_percent_total\": 0.0,\n",
       "    \"unexpected_percent_nonmissing\": 0.0,\n",
       "    \"partial_unexpected_list\": []\n",
       "  },\n",
       "  \"exception_info\": {\n",
       "    \"raised_exception\": false,\n",
       "    \"exception_traceback\": null,\n",
       "    \"exception_message\": null\n",
       "  },\n",
       "  \"success\": true\n",
       "}"
      ]
     },
     "execution_count": 18,
     "metadata": {},
     "output_type": "execute_result"
    }
   ],
   "source": [
    "batch.expect_column_values_to_be_between(column='pres', max_value=103000, min_value=97000)"
   ]
  },
  {
   "cell_type": "code",
   "execution_count": 19,
   "metadata": {},
   "outputs": [
    {
     "data": {
      "text/plain": [
       "{\n",
       "  \"meta\": {},\n",
       "  \"result\": {\n",
       "    \"observed_value\": 100457.47601476015,\n",
       "    \"element_count\": 542,\n",
       "    \"missing_count\": null,\n",
       "    \"missing_percent\": null\n",
       "  },\n",
       "  \"exception_info\": {\n",
       "    \"raised_exception\": false,\n",
       "    \"exception_traceback\": null,\n",
       "    \"exception_message\": null\n",
       "  },\n",
       "  \"success\": true\n",
       "}"
      ]
     },
     "execution_count": 19,
     "metadata": {},
     "output_type": "execute_result"
    }
   ],
   "source": [
    "batch.expect_column_mean_to_be_between(column='pres', max_value=101000, min_value=100000)"
   ]
  },
  {
   "cell_type": "markdown",
   "metadata": {},
   "source": [
    "## Save & Review Your Expectations\n",
    "\n",
    "Let's save the expectation suite as a JSON file in the `great_expectations/expectations` directory of your project.\n",
    "If you decide not to save some expectations that you created, use [remove_expectation method](https://docs.greatexpectations.io/en/latest/autoapi/great_expectations/data_asset/index.html?highlight=remove_expectation&utm_source=notebook&utm_medium=edit_expectations#great_expectations.data_asset.DataAsset.remove_expectation).\n",
    "\n",
    "Let's now rebuild your Data Docs, which helps you communicate about your data with both machines and humans."
   ]
  },
  {
   "cell_type": "code",
   "execution_count": 20,
   "metadata": {},
   "outputs": [
    {
     "name": "stdout",
     "output_type": "stream",
     "text": [
      "2021-03-31T14:51:00+0200 - INFO - \t15 expectation(s) included in expectation_suite. result_format settings filtered.\n"
     ]
    }
   ],
   "source": [
    "batch.save_expectation_suite(discard_failed_expectations=False)"
   ]
  },
  {
   "cell_type": "code",
   "execution_count": 21,
   "metadata": {},
   "outputs": [],
   "source": [
    "context.build_data_docs()\n",
    "context.open_data_docs()"
   ]
  },
  {
   "cell_type": "markdown",
   "metadata": {},
   "source": [
    "# Launch a validation on your data"
   ]
  },
  {
   "cell_type": "code",
   "execution_count": 22,
   "metadata": {},
   "outputs": [
    {
     "name": "stdout",
     "output_type": "stream",
     "text": [
      "2021-03-31T14:51:37+0200 - INFO - Setting run_name to: 20210331T125137.587266Z\n",
      "2021-03-31T14:51:37+0200 - INFO - \t15 expectation(s) included in expectation_suite.\n"
     ]
    }
   ],
   "source": [
    "results = LegacyCheckpoint(\n",
    "    name=\"_temp_checkpoint\",\n",
    "    data_context=context,\n",
    "    batches=[\n",
    "        {\n",
    "          \"batch_kwargs\": batch_kwargs,\n",
    "          \"expectation_suite_names\": [expectation_suite_name]\n",
    "        }\n",
    "    ]\n",
    ").run()\n",
    "validation_result_identifier = results.list_validation_result_identifiers()[0]"
   ]
  },
  {
   "cell_type": "code",
   "execution_count": null,
   "metadata": {},
   "outputs": [],
   "source": []
  }
 ],
 "metadata": {
  "kernelspec": {
   "display_name": "Python 3",
   "language": "python",
   "name": "python3"
  },
  "language_info": {
   "codemirror_mode": {
    "name": "ipython",
    "version": 3
   },
   "file_extension": ".py",
   "mimetype": "text/x-python",
   "name": "python",
   "nbconvert_exporter": "python",
   "pygments_lexer": "ipython3",
   "version": "3.7.3"
  }
 },
 "nbformat": 4,
 "nbformat_minor": 5
}
